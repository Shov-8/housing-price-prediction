{
 "cells": [
  {
   "cell_type": "code",
   "execution_count": 1,
   "metadata": {},
   "outputs": [],
   "source": [
    "%load_ext autoreload\n",
    "%autoreload 2"
   ]
  },
  {
   "cell_type": "code",
   "execution_count": 3,
   "metadata": {},
   "outputs": [],
   "source": [
    "import os\n",
    "import os.path as op\n",
    "import pandas as pd\n",
    "import numpy as np\n",
    "from dateutil.relativedelta import relativedelta"
   ]
  },
  {
   "cell_type": "code",
   "execution_count": 54,
   "metadata": {},
   "outputs": [],
   "source": [
    "import ta_lib.eda.api as eda\n",
    "from ta_lib.reports.api import summary_report "
   ]
  },
  {
   "cell_type": "code",
   "execution_count": 4,
   "metadata": {},
   "outputs": [],
   "source": [
    "os.environ['TA_DEBUG'] = \"False\"\n",
    "os.environ['TA_ALLOW_EXCEPTION'] = \"True\""
   ]
  },
  {
   "cell_type": "code",
   "execution_count": 6,
   "metadata": {},
   "outputs": [],
   "source": [
    "import warnings"
   ]
  },
  {
   "cell_type": "code",
   "execution_count": 7,
   "metadata": {},
   "outputs": [],
   "source": [
    "warnings.filterwarnings('ignore', message = \"The sklearn.metrics.classification module\", category = FutureWarning)\n",
    "warnings.filterwarnings('ignore', message = \".*title_format is depreceated. Please use title instead.*\")"
   ]
  },
  {
   "cell_type": "code",
   "execution_count": 36,
   "metadata": {},
   "outputs": [
    {
     "name": "stdout",
     "output_type": "stream",
     "text": [
      "CPU times: user 8 µs, sys: 2 µs, total: 10 µs\n",
      "Wall time: 11.9 µs\n"
     ]
    }
   ],
   "source": [
    "%%time\n",
    "from ta_lib.core.api import (\n",
    "    create_context,\n",
    "    get_package_path,\n",
    "    display_as_tabs,\n",
    "    initialize_environment,\n",
    "    string_cleaning,\n",
    "    list_datasets,\n",
    "    load_dataset,\n",
    "    setanalyse\n",
    ")\n",
    "import ta_lib.core.api as dataset\n",
    "import ta_lib.eda.api as analysis"
   ]
  },
  {
   "cell_type": "code",
   "execution_count": 37,
   "metadata": {},
   "outputs": [],
   "source": [
    "initialize_environment(debug = False, hide_warnings = True)"
   ]
  },
  {
   "cell_type": "code",
   "execution_count": 38,
   "metadata": {},
   "outputs": [
    {
     "data": {
      "text/html": [
       "['/raw/house']"
      ],
      "text/plain": [
       "['/raw/house']"
      ]
     },
     "execution_count": 38,
     "metadata": {},
     "output_type": "execute_result"
    }
   ],
   "source": [
    "config_path = op.join('conf', 'config.yml')\n",
    "context = create_context(config_path)\n",
    "dataset.list_datasets(context)"
   ]
  },
  {
   "cell_type": "code",
   "execution_count": 40,
   "metadata": {},
   "outputs": [],
   "source": [
    "data = dict()\n",
    "for i in dataset.list_datasets(context):\n",
    "    if '/raw/' in i:\n",
    "        key_ = i.replace('/raw/', '') + '_df'\n",
    "        data[key_] = dataset.load_dataset(context, i)\n",
    "        data[key_].columns = string_cleaning(data[key_].columns, lower = True)"
   ]
  },
  {
   "cell_type": "code",
   "execution_count": 42,
   "metadata": {},
   "outputs": [
    {
     "data": {
      "text/html": [
       "<div>\n",
       "<style scoped>\n",
       "    .dataframe tbody tr th:only-of-type {\n",
       "        vertical-align: middle;\n",
       "    }\n",
       "\n",
       "    .dataframe tbody tr th {\n",
       "        vertical-align: top;\n",
       "    }\n",
       "\n",
       "    .dataframe thead th {\n",
       "        text-align: right;\n",
       "    }\n",
       "</style>\n",
       "<table border=\"1\" class=\"dataframe\">\n",
       "  <thead>\n",
       "    <tr style=\"text-align: right;\">\n",
       "      <th></th>\n",
       "      <th>longitude</th>\n",
       "      <th>latitude</th>\n",
       "      <th>housing_median_age</th>\n",
       "      <th>total_rooms</th>\n",
       "      <th>total_bedrooms</th>\n",
       "      <th>population</th>\n",
       "      <th>households</th>\n",
       "      <th>median_income</th>\n",
       "      <th>median_house_value</th>\n",
       "      <th>ocean_proximity</th>\n",
       "    </tr>\n",
       "  </thead>\n",
       "  <tbody>\n",
       "    <tr>\n",
       "      <th>0</th>\n",
       "      <td>-122.23</td>\n",
       "      <td>37.88</td>\n",
       "      <td>41.0</td>\n",
       "      <td>880.0</td>\n",
       "      <td>129.0</td>\n",
       "      <td>322.0</td>\n",
       "      <td>126.0</td>\n",
       "      <td>8.3252</td>\n",
       "      <td>452600.0</td>\n",
       "      <td>NEAR BAY</td>\n",
       "    </tr>\n",
       "    <tr>\n",
       "      <th>1</th>\n",
       "      <td>-122.22</td>\n",
       "      <td>37.86</td>\n",
       "      <td>21.0</td>\n",
       "      <td>7099.0</td>\n",
       "      <td>1106.0</td>\n",
       "      <td>2401.0</td>\n",
       "      <td>1138.0</td>\n",
       "      <td>8.3014</td>\n",
       "      <td>358500.0</td>\n",
       "      <td>NEAR BAY</td>\n",
       "    </tr>\n",
       "    <tr>\n",
       "      <th>2</th>\n",
       "      <td>-122.24</td>\n",
       "      <td>37.85</td>\n",
       "      <td>52.0</td>\n",
       "      <td>1467.0</td>\n",
       "      <td>190.0</td>\n",
       "      <td>496.0</td>\n",
       "      <td>177.0</td>\n",
       "      <td>7.2574</td>\n",
       "      <td>352100.0</td>\n",
       "      <td>NEAR BAY</td>\n",
       "    </tr>\n",
       "    <tr>\n",
       "      <th>3</th>\n",
       "      <td>-122.25</td>\n",
       "      <td>37.85</td>\n",
       "      <td>52.0</td>\n",
       "      <td>1274.0</td>\n",
       "      <td>235.0</td>\n",
       "      <td>558.0</td>\n",
       "      <td>219.0</td>\n",
       "      <td>5.6431</td>\n",
       "      <td>341300.0</td>\n",
       "      <td>NEAR BAY</td>\n",
       "    </tr>\n",
       "    <tr>\n",
       "      <th>4</th>\n",
       "      <td>-122.25</td>\n",
       "      <td>37.85</td>\n",
       "      <td>52.0</td>\n",
       "      <td>1627.0</td>\n",
       "      <td>280.0</td>\n",
       "      <td>565.0</td>\n",
       "      <td>259.0</td>\n",
       "      <td>3.8462</td>\n",
       "      <td>342200.0</td>\n",
       "      <td>NEAR BAY</td>\n",
       "    </tr>\n",
       "    <tr>\n",
       "      <th>...</th>\n",
       "      <td>...</td>\n",
       "      <td>...</td>\n",
       "      <td>...</td>\n",
       "      <td>...</td>\n",
       "      <td>...</td>\n",
       "      <td>...</td>\n",
       "      <td>...</td>\n",
       "      <td>...</td>\n",
       "      <td>...</td>\n",
       "      <td>...</td>\n",
       "    </tr>\n",
       "    <tr>\n",
       "      <th>20635</th>\n",
       "      <td>-121.09</td>\n",
       "      <td>39.48</td>\n",
       "      <td>25.0</td>\n",
       "      <td>1665.0</td>\n",
       "      <td>374.0</td>\n",
       "      <td>845.0</td>\n",
       "      <td>330.0</td>\n",
       "      <td>1.5603</td>\n",
       "      <td>78100.0</td>\n",
       "      <td>INLAND</td>\n",
       "    </tr>\n",
       "    <tr>\n",
       "      <th>20636</th>\n",
       "      <td>-121.21</td>\n",
       "      <td>39.49</td>\n",
       "      <td>18.0</td>\n",
       "      <td>697.0</td>\n",
       "      <td>150.0</td>\n",
       "      <td>356.0</td>\n",
       "      <td>114.0</td>\n",
       "      <td>2.5568</td>\n",
       "      <td>77100.0</td>\n",
       "      <td>INLAND</td>\n",
       "    </tr>\n",
       "    <tr>\n",
       "      <th>20637</th>\n",
       "      <td>-121.22</td>\n",
       "      <td>39.43</td>\n",
       "      <td>17.0</td>\n",
       "      <td>2254.0</td>\n",
       "      <td>485.0</td>\n",
       "      <td>1007.0</td>\n",
       "      <td>433.0</td>\n",
       "      <td>1.7000</td>\n",
       "      <td>92300.0</td>\n",
       "      <td>INLAND</td>\n",
       "    </tr>\n",
       "    <tr>\n",
       "      <th>20638</th>\n",
       "      <td>-121.32</td>\n",
       "      <td>39.43</td>\n",
       "      <td>18.0</td>\n",
       "      <td>1860.0</td>\n",
       "      <td>409.0</td>\n",
       "      <td>741.0</td>\n",
       "      <td>349.0</td>\n",
       "      <td>1.8672</td>\n",
       "      <td>84700.0</td>\n",
       "      <td>INLAND</td>\n",
       "    </tr>\n",
       "    <tr>\n",
       "      <th>20639</th>\n",
       "      <td>-121.24</td>\n",
       "      <td>39.37</td>\n",
       "      <td>16.0</td>\n",
       "      <td>2785.0</td>\n",
       "      <td>616.0</td>\n",
       "      <td>1387.0</td>\n",
       "      <td>530.0</td>\n",
       "      <td>2.3886</td>\n",
       "      <td>89400.0</td>\n",
       "      <td>INLAND</td>\n",
       "    </tr>\n",
       "  </tbody>\n",
       "</table>\n",
       "<p>20640 rows × 10 columns</p>\n",
       "</div>"
      ],
      "text/plain": [
       "       longitude  latitude  housing_median_age  total_rooms  total_bedrooms  \\\n",
       "0        -122.23     37.88                41.0        880.0           129.0   \n",
       "1        -122.22     37.86                21.0       7099.0          1106.0   \n",
       "2        -122.24     37.85                52.0       1467.0           190.0   \n",
       "3        -122.25     37.85                52.0       1274.0           235.0   \n",
       "4        -122.25     37.85                52.0       1627.0           280.0   \n",
       "...          ...       ...                 ...          ...             ...   \n",
       "20635    -121.09     39.48                25.0       1665.0           374.0   \n",
       "20636    -121.21     39.49                18.0        697.0           150.0   \n",
       "20637    -121.22     39.43                17.0       2254.0           485.0   \n",
       "20638    -121.32     39.43                18.0       1860.0           409.0   \n",
       "20639    -121.24     39.37                16.0       2785.0           616.0   \n",
       "\n",
       "       population  households  median_income  median_house_value  \\\n",
       "0           322.0       126.0         8.3252            452600.0   \n",
       "1          2401.0      1138.0         8.3014            358500.0   \n",
       "2           496.0       177.0         7.2574            352100.0   \n",
       "3           558.0       219.0         5.6431            341300.0   \n",
       "4           565.0       259.0         3.8462            342200.0   \n",
       "...           ...         ...            ...                 ...   \n",
       "20635       845.0       330.0         1.5603             78100.0   \n",
       "20636       356.0       114.0         2.5568             77100.0   \n",
       "20637      1007.0       433.0         1.7000             92300.0   \n",
       "20638       741.0       349.0         1.8672             84700.0   \n",
       "20639      1387.0       530.0         2.3886             89400.0   \n",
       "\n",
       "      ocean_proximity  \n",
       "0            NEAR BAY  \n",
       "1            NEAR BAY  \n",
       "2            NEAR BAY  \n",
       "3            NEAR BAY  \n",
       "4            NEAR BAY  \n",
       "...               ...  \n",
       "20635          INLAND  \n",
       "20636          INLAND  \n",
       "20637          INLAND  \n",
       "20638          INLAND  \n",
       "20639          INLAND  \n",
       "\n",
       "[20640 rows x 10 columns]"
      ]
     },
     "execution_count": 42,
     "metadata": {},
     "output_type": "execute_result"
    }
   ],
   "source": [
    "data['house_df']"
   ]
  },
  {
   "cell_type": "code",
   "execution_count": 44,
   "metadata": {},
   "outputs": [],
   "source": [
    "housingDf = load_dataset(context, 'raw/house')"
   ]
  },
  {
   "cell_type": "code",
   "execution_count": 45,
   "metadata": {},
   "outputs": [
    {
     "data": {
      "text/html": [
       "<div>\n",
       "<style scoped>\n",
       "    .dataframe tbody tr th:only-of-type {\n",
       "        vertical-align: middle;\n",
       "    }\n",
       "\n",
       "    .dataframe tbody tr th {\n",
       "        vertical-align: top;\n",
       "    }\n",
       "\n",
       "    .dataframe thead th {\n",
       "        text-align: right;\n",
       "    }\n",
       "</style>\n",
       "<table border=\"1\" class=\"dataframe\">\n",
       "  <thead>\n",
       "    <tr style=\"text-align: right;\">\n",
       "      <th></th>\n",
       "      <th>longitude</th>\n",
       "      <th>latitude</th>\n",
       "      <th>housing_median_age</th>\n",
       "      <th>total_rooms</th>\n",
       "      <th>total_bedrooms</th>\n",
       "      <th>population</th>\n",
       "      <th>households</th>\n",
       "      <th>median_income</th>\n",
       "      <th>median_house_value</th>\n",
       "      <th>ocean_proximity</th>\n",
       "    </tr>\n",
       "  </thead>\n",
       "  <tbody>\n",
       "    <tr>\n",
       "      <th>0</th>\n",
       "      <td>-122.23</td>\n",
       "      <td>37.88</td>\n",
       "      <td>41.0</td>\n",
       "      <td>880.0</td>\n",
       "      <td>129.0</td>\n",
       "      <td>322.0</td>\n",
       "      <td>126.0</td>\n",
       "      <td>8.3252</td>\n",
       "      <td>452600.0</td>\n",
       "      <td>NEAR BAY</td>\n",
       "    </tr>\n",
       "    <tr>\n",
       "      <th>1</th>\n",
       "      <td>-122.22</td>\n",
       "      <td>37.86</td>\n",
       "      <td>21.0</td>\n",
       "      <td>7099.0</td>\n",
       "      <td>1106.0</td>\n",
       "      <td>2401.0</td>\n",
       "      <td>1138.0</td>\n",
       "      <td>8.3014</td>\n",
       "      <td>358500.0</td>\n",
       "      <td>NEAR BAY</td>\n",
       "    </tr>\n",
       "    <tr>\n",
       "      <th>2</th>\n",
       "      <td>-122.24</td>\n",
       "      <td>37.85</td>\n",
       "      <td>52.0</td>\n",
       "      <td>1467.0</td>\n",
       "      <td>190.0</td>\n",
       "      <td>496.0</td>\n",
       "      <td>177.0</td>\n",
       "      <td>7.2574</td>\n",
       "      <td>352100.0</td>\n",
       "      <td>NEAR BAY</td>\n",
       "    </tr>\n",
       "    <tr>\n",
       "      <th>3</th>\n",
       "      <td>-122.25</td>\n",
       "      <td>37.85</td>\n",
       "      <td>52.0</td>\n",
       "      <td>1274.0</td>\n",
       "      <td>235.0</td>\n",
       "      <td>558.0</td>\n",
       "      <td>219.0</td>\n",
       "      <td>5.6431</td>\n",
       "      <td>341300.0</td>\n",
       "      <td>NEAR BAY</td>\n",
       "    </tr>\n",
       "    <tr>\n",
       "      <th>4</th>\n",
       "      <td>-122.25</td>\n",
       "      <td>37.85</td>\n",
       "      <td>52.0</td>\n",
       "      <td>1627.0</td>\n",
       "      <td>280.0</td>\n",
       "      <td>565.0</td>\n",
       "      <td>259.0</td>\n",
       "      <td>3.8462</td>\n",
       "      <td>342200.0</td>\n",
       "      <td>NEAR BAY</td>\n",
       "    </tr>\n",
       "  </tbody>\n",
       "</table>\n",
       "</div>"
      ],
      "text/plain": [
       "   longitude  latitude  housing_median_age  total_rooms  total_bedrooms  \\\n",
       "0    -122.23     37.88                41.0        880.0           129.0   \n",
       "1    -122.22     37.86                21.0       7099.0          1106.0   \n",
       "2    -122.24     37.85                52.0       1467.0           190.0   \n",
       "3    -122.25     37.85                52.0       1274.0           235.0   \n",
       "4    -122.25     37.85                52.0       1627.0           280.0   \n",
       "\n",
       "   population  households  median_income  median_house_value ocean_proximity  \n",
       "0       322.0       126.0         8.3252            452600.0        NEAR BAY  \n",
       "1      2401.0      1138.0         8.3014            358500.0        NEAR BAY  \n",
       "2       496.0       177.0         7.2574            352100.0        NEAR BAY  \n",
       "3       558.0       219.0         5.6431            341300.0        NEAR BAY  \n",
       "4       565.0       259.0         3.8462            342200.0        NEAR BAY  "
      ]
     },
     "execution_count": 45,
     "metadata": {},
     "output_type": "execute_result"
    }
   ],
   "source": [
    "housingDf.head()"
   ]
  },
  {
   "cell_type": "code",
   "execution_count": 48,
   "metadata": {},
   "outputs": [
    {
     "data": {},
     "metadata": {},
     "output_type": "display_data"
    },
    {
     "data": {
      "application/vnd.holoviews_exec.v0+json": "",
      "text/html": [
       "<div id='1001'>\n",
       "\n",
       "\n",
       "\n",
       "\n",
       "\n",
       "  <div class=\"bk-root\" id=\"dbe6ce07-6f90-43cb-b82c-7c3e4091bd77\" data-root-id=\"1001\"></div>\n",
       "</div>\n",
       "<script type=\"application/javascript\">(function(root) {\n",
       "  function embed_document(root) {\n",
       "  var docs_json = {\"ec6cfebd-2b47-4115-a43e-a6d73e65e03c\":{\"roots\":{\"references\":[{\"attributes\":{\"data\":{\"Datatype\":[\"float64\",\"float64\",\"float64\",\"float64\",\"float64\",\"float64\",\"float64\",\"float64\",\"float64\",\"object\"],\"No of Unique\":[\"844\",\"862\",\"52\",\"5926\",\"1923\",\"3888\",\"1815\",\"12928\",\"3842\",\"5\"],\"Samples\":[\"[-122.23, -122.22, -122.24, -122.25, -122.26]\",\"[37.88, 37.86, 37.85, 37.84, 37.83]\",\"[41.0, 21.0, 52.0, 42.0, 50.0]\",\"[880.0, 7099.0, 1467.0, 1274.0, 1627.0]\",\"[129.0, 1106.0, 190.0, 235.0, 280.0]\",\"[322.0, 2401.0, 496.0, 558.0, 565.0]\",\"[126.0, 1138.0, 177.0, 219.0, 259.0]\",\"[8.3252, 8.3014, 7.2574, 5.6431, 3.8462]\",\"[452600.0, 358500.0, 352100.0, 341300.0, 342200.0]\",\"['NEAR BAY', '<1H OCEAN', 'INLAND', 'NEAR OCEAN', 'ISLAND']\"],\"Variable Name\":[\"longitude\",\"latitude\",\"housing_median_age\",\"total_rooms\",\"total_bedrooms\",\"population\",\"households\",\"median_income\",\"median_house_value\",\"ocean_proximity\"],\"index\":[\"longitude\",\"latitude\",\"housing_median_age\",\"total_rooms\",\"total_bedrooms\",\"population\",\"households\",\"median_income\",\"median_house_value\",\"ocean_proximity\"]},\"selected\":{\"id\":\"1030\"},\"selection_policy\":{\"id\":\"1032\"}},\"id\":\"1002\",\"type\":\"ColumnDataSource\"},{\"attributes\":{\"editor\":{\"id\":\"1019\"},\"field\":\"No of Unique\",\"formatter\":{\"id\":\"1018\"},\"title\":\"No of Unique\",\"width\":null},\"id\":\"1020\",\"type\":\"TableColumn\"},{\"attributes\":{},\"id\":\"1008\",\"type\":\"StringFormatter\"},{\"attributes\":{\"columns\":[{\"id\":\"1005\"},{\"id\":\"1010\"},{\"id\":\"1015\"},{\"id\":\"1020\"},{\"id\":\"1025\"}],\"editable\":true,\"fit_columns\":true,\"height\":280,\"index_position\":null,\"margin\":[5,10,5,10],\"name\":\"housing\",\"source\":{\"id\":\"1002\"},\"view\":{\"id\":\"1029\"}},\"id\":\"1028\",\"type\":\"DataTable\"},{\"attributes\":{},\"id\":\"1030\",\"type\":\"Selection\"},{\"attributes\":{},\"id\":\"1023\",\"type\":\"StringFormatter\"},{\"attributes\":{\"editor\":{\"id\":\"1004\"},\"field\":\"index\",\"formatter\":{\"id\":\"1003\"},\"title\":\"index\",\"width\":null},\"id\":\"1005\",\"type\":\"TableColumn\"},{\"attributes\":{},\"id\":\"1003\",\"type\":\"StringFormatter\"},{\"attributes\":{\"editor\":{\"id\":\"1009\"},\"field\":\"Variable Name\",\"formatter\":{\"id\":\"1008\"},\"title\":\"Variable Name\",\"width\":null},\"id\":\"1010\",\"type\":\"TableColumn\"},{\"attributes\":{},\"id\":\"1032\",\"type\":\"UnionRenderers\"},{\"attributes\":{\"child\":{\"id\":\"1028\"},\"name\":\"housing\",\"title\":\"housing\"},\"id\":\"1031\",\"type\":\"Panel\"},{\"attributes\":{\"client_comm_id\":\"a5071f8f780247c3b29afd93f77b9f6a\",\"comm_id\":\"3d5ebdceea044ed39062071806b9c08f\",\"plot_id\":\"1001\"},\"id\":\"1038\",\"type\":\"panel.models.comm_manager.CommManager\"},{\"attributes\":{},\"id\":\"1009\",\"type\":\"StringEditor\"},{\"attributes\":{},\"id\":\"1018\",\"type\":\"StringFormatter\"},{\"attributes\":{\"margin\":[0,0,0,0],\"tabs\":[{\"id\":\"1031\"}]},\"id\":\"1001\",\"type\":\"Tabs\"},{\"attributes\":{},\"id\":\"1013\",\"type\":\"StringFormatter\"},{\"attributes\":{},\"id\":\"1014\",\"type\":\"StringEditor\"},{\"attributes\":{\"editor\":{\"id\":\"1024\"},\"field\":\"Samples\",\"formatter\":{\"id\":\"1023\"},\"title\":\"Samples\",\"width\":null},\"id\":\"1025\",\"type\":\"TableColumn\"},{\"attributes\":{\"source\":{\"id\":\"1002\"}},\"id\":\"1029\",\"type\":\"CDSView\"},{\"attributes\":{},\"id\":\"1004\",\"type\":\"StringEditor\"},{\"attributes\":{},\"id\":\"1019\",\"type\":\"StringEditor\"},{\"attributes\":{},\"id\":\"1024\",\"type\":\"StringEditor\"},{\"attributes\":{\"editor\":{\"id\":\"1014\"},\"field\":\"Datatype\",\"formatter\":{\"id\":\"1013\"},\"title\":\"Datatype\",\"width\":null},\"id\":\"1015\",\"type\":\"TableColumn\"}],\"root_ids\":[\"1001\",\"1038\"]},\"title\":\"Bokeh Application\",\"version\":\"2.2.3\"}};\n",
       "  var render_items = [{\"docid\":\"ec6cfebd-2b47-4115-a43e-a6d73e65e03c\",\"root_ids\":[\"1001\"],\"roots\":{\"1001\":\"dbe6ce07-6f90-43cb-b82c-7c3e4091bd77\"}}];\n",
       "  root.Bokeh.embed.embed_items_notebook(docs_json, render_items);\n",
       "  }\n",
       "if (root.Bokeh !== undefined) {\n",
       "    embed_document(root);\n",
       "  } else {\n",
       "    var attempts = 0;\n",
       "    var timer = setInterval(function(root) {\n",
       "      if (root.Bokeh !== undefined) {\n",
       "        clearInterval(timer);\n",
       "        embed_document(root);\n",
       "      } else if (document.readyState == \"complete\") {\n",
       "        attempts++;\n",
       "        if (attempts > 100) {\n",
       "          clearInterval(timer);\n",
       "          console.log(\"Bokeh: ERROR: Unable to run BokehJS code because BokehJS library is missing\");\n",
       "        }\n",
       "      }\n",
       "    }, 10, root)\n",
       "  }\n",
       "})(window);</script>"
      ],
      "text/plain": [
       "Tabs\n",
       "    [0] DataFrame(name='housing', value=                         V...)"
      ]
     },
     "execution_count": 48,
     "metadata": {
      "application/vnd.holoviews_exec.v0+json": {
       "id": "1001"
      }
     },
     "output_type": "execute_result"
    }
   ],
   "source": [
    "summary = eda.get_variable_summary(housingDf)\n",
    "display_as_tabs([('housing', summary)])"
   ]
  },
  {
   "cell_type": "code",
   "execution_count": 49,
   "metadata": {},
   "outputs": [
    {
     "data": {
      "text/plain": [
       "longitude               0\n",
       "latitude                0\n",
       "housing_median_age      0\n",
       "total_rooms             0\n",
       "total_bedrooms        207\n",
       "population              0\n",
       "households              0\n",
       "median_income           0\n",
       "median_house_value      0\n",
       "ocean_proximity         0\n",
       "dtype: int64"
      ]
     },
     "execution_count": 49,
     "metadata": {},
     "output_type": "execute_result"
    }
   ],
   "source": [
    "housingDf.isna().sum()"
   ]
  },
  {
   "cell_type": "markdown",
   "metadata": {},
   "source": [
    "<h2>Health Analysis</h2>"
   ]
  },
  {
   "cell_type": "code",
   "execution_count": 50,
   "metadata": {},
   "outputs": [
    {
     "data": {},
     "metadata": {},
     "output_type": "display_data"
    },
    {
     "data": {},
     "metadata": {},
     "output_type": "display_data"
    },
    {
     "data": {
      "application/vnd.holoviews_exec.v0+json": "",
      "text/html": [
       "<div id='1049'>\n",
       "\n",
       "\n",
       "\n",
       "\n",
       "\n",
       "  <div class=\"bk-root\" id=\"bb733c79-fd8c-4cf0-a0b4-57402faee47a\" data-root-id=\"1049\"></div>\n",
       "</div>\n",
       "<script type=\"application/javascript\">(function(root) {\n",
       "  function embed_document(root) {\n",
       "  var docs_json = {\"633d603c-2dd6-4169-9261-2cd9af86e0b2\":{\"roots\":{\"references\":[{\"attributes\":{},\"id\":\"1263\",\"type\":\"BasicTickFormatter\"},{\"attributes\":{\"label\":{\"field\":\"Variable\"},\"renderers\":[{\"id\":\"1203\"}]},\"id\":\"1214\",\"type\":\"LegendItem\"},{\"attributes\":{\"axis_label\":\"\",\"bounds\":\"auto\",\"formatter\":{\"id\":\"1263\"},\"major_label_orientation\":\"horizontal\",\"ticker\":{\"id\":\"1272\"}},\"id\":\"1233\",\"type\":\"LinearAxis\"},{\"attributes\":{},\"id\":\"1154\",\"type\":\"UnionRenderers\"},{\"attributes\":{\"items\":[{\"id\":\"1214\"}],\"location\":[0,0]},\"id\":\"1213\",\"type\":\"Legend\"},{\"attributes\":{\"axis\":{\"id\":\"1062\"},\"grid_line_color\":null,\"ticker\":null},\"id\":\"1065\",\"type\":\"Grid\"},{\"attributes\":{},\"id\":\"1265\",\"type\":\"CategoricalTickFormatter\"},{\"attributes\":{\"ticks\":[0]},\"id\":\"1101\",\"type\":\"FixedTicker\"},{\"attributes\":{\"source\":{\"id\":\"1197\"}},\"id\":\"1204\",\"type\":\"CDSView\"},{\"attributes\":{\"data_source\":{\"id\":\"1197\"},\"glyph\":{\"id\":\"1200\"},\"hover_glyph\":null,\"muted_glyph\":{\"id\":\"1202\"},\"nonselection_glyph\":{\"id\":\"1201\"},\"selection_glyph\":null,\"view\":{\"id\":\"1204\"}},\"id\":\"1203\",\"type\":\"GlyphRenderer\"},{\"attributes\":{},\"id\":\"1084\",\"type\":\"Selection\"},{\"attributes\":{\"data\":{\"Variable\":[\"Unique\",\"Duplicate\"],\"bottom\":{\"__ndarray__\":\"AAAAAAAAAAAAAAAAAABZQA==\",\"dtype\":\"float64\",\"order\":\"little\",\"shape\":[2]},\"index\":[\"values\",\"values\"],\"top\":{\"__ndarray__\":\"AAAAAAAAWUAAAAAAAABZQA==\",\"dtype\":\"float64\",\"order\":\"little\",\"shape\":[2]},\"value\":{\"__ndarray__\":\"AAAAAAAAWUAAAAAAAAAAAA==\",\"dtype\":\"float64\",\"order\":\"little\",\"shape\":[2]}},\"selected\":{\"id\":\"1198\"},\"selection_policy\":{\"id\":\"1211\"}},\"id\":\"1197\",\"type\":\"ColumnDataSource\"},{\"attributes\":{},\"id\":\"1211\",\"type\":\"UnionRenderers\"},{\"attributes\":{\"toolbars\":[{\"id\":\"1075\"},{\"id\":\"1132\"},{\"id\":\"1189\"},{\"id\":\"1246\"}],\"tools\":[{\"id\":\"1052\"},{\"id\":\"1069\"},{\"id\":\"1070\"},{\"id\":\"1071\"},{\"id\":\"1072\"},{\"id\":\"1073\"},{\"id\":\"1109\"},{\"id\":\"1126\"},{\"id\":\"1127\"},{\"id\":\"1128\"},{\"id\":\"1129\"},{\"id\":\"1130\"},{\"id\":\"1166\"},{\"id\":\"1183\"},{\"id\":\"1184\"},{\"id\":\"1185\"},{\"id\":\"1186\"},{\"id\":\"1187\"},{\"id\":\"1223\"},{\"id\":\"1240\"},{\"id\":\"1241\"},{\"id\":\"1242\"},{\"id\":\"1243\"},{\"id\":\"1244\"}]},\"id\":\"1312\",\"type\":\"ProxyToolbar\"},{\"attributes\":{\"ticks\":[0]},\"id\":\"1158\",\"type\":\"FixedTicker\"},{\"attributes\":{},\"id\":\"1231\",\"type\":\"CategoricalScale\"},{\"attributes\":{},\"id\":\"1268\",\"type\":\"UnionRenderers\"},{\"attributes\":{\"style\":{\"white-space\":\"nowrap\"},\"text\":\"<span style=\\\"color:black;font-family:Arial;font-style:bold;font-weight:bold;font-size:12pt\\\">Data Shape:(20640, 10)</span>\",\"width\":450},\"id\":\"1315\",\"type\":\"Div\"},{\"attributes\":{\"children\":[{\"id\":\"1313\"},{\"id\":\"1311\"}]},\"id\":\"1314\",\"type\":\"Column\"},{\"attributes\":{\"children\":[{\"id\":\"1315\"},{\"id\":\"1314\"}]},\"id\":\"1316\",\"type\":\"Column\"},{\"attributes\":{\"child\":{\"id\":\"1316\"},\"name\":\"house\",\"title\":\"house\"},\"id\":\"1569\",\"type\":\"Panel\"},{\"attributes\":{\"ticks\":[0]},\"id\":\"1272\",\"type\":\"FixedTicker\"},{\"attributes\":{\"factors\":[\"Unique\",\"Duplicate\"],\"palette\":[\"#1f77b3\",\"#ff7e0e\"]},\"id\":\"1196\",\"type\":\"CategoricalColorMapper\"},{\"attributes\":{\"fill_color\":{\"field\":\"Variable\",\"transform\":{\"id\":\"1253\"}},\"height\":{\"value\":0.8},\"left\":{\"field\":\"bottom\"},\"right\":{\"field\":\"top\"},\"y\":{\"field\":\"index\"}},\"id\":\"1257\",\"type\":\"HBar\"},{\"attributes\":{\"fill_color\":{\"field\":\"Variable\",\"transform\":{\"id\":\"1196\"}},\"height\":{\"value\":0.8},\"left\":{\"field\":\"bottom\"},\"right\":{\"field\":\"top\"},\"y\":{\"field\":\"index\"}},\"id\":\"1200\",\"type\":\"HBar\"},{\"attributes\":{},\"id\":\"1141\",\"type\":\"Selection\"},{\"attributes\":{\"axis\":{\"id\":\"1180\"},\"dimension\":1,\"grid_line_color\":null,\"ticker\":null},\"id\":\"1182\",\"type\":\"Grid\"},{\"attributes\":{\"children\":[[{\"id\":\"1053\"},0,0],[{\"id\":\"1110\"},1,0],[{\"id\":\"1167\"},2,0],[{\"id\":\"1224\"},3,0]]},\"id\":\"1311\",\"type\":\"GridBox\"},{\"attributes\":{\"axis_label\":\"\",\"bounds\":\"auto\",\"formatter\":{\"id\":\"1265\"},\"major_label_orientation\":\"horizontal\",\"ticker\":{\"id\":\"1238\"}},\"id\":\"1237\",\"type\":\"CategoricalAxis\"},{\"attributes\":{\"fill_alpha\":{\"value\":0.2},\"fill_color\":{\"field\":\"Variable\",\"transform\":{\"id\":\"1196\"}},\"height\":{\"value\":0.8},\"left\":{\"field\":\"bottom\"},\"line_alpha\":{\"value\":0.2},\"right\":{\"field\":\"top\"},\"y\":{\"field\":\"index\"}},\"id\":\"1202\",\"type\":\"HBar\"},{\"attributes\":{\"factors\":[\"values\"],\"tags\":[[[\"index\",\"index\",null]]]},\"id\":\"1051\",\"type\":\"FactorRange\"},{\"attributes\":{\"axis\":{\"id\":\"1176\"},\"grid_line_color\":null,\"ticker\":null},\"id\":\"1179\",\"type\":\"Grid\"},{\"attributes\":{\"data\":{\"Variable\":[\"Numeric\",\"Others\"],\"bottom\":{\"__ndarray__\":\"AAAAAAAAAAAAAAAAAIBWQA==\",\"dtype\":\"float64\",\"order\":\"little\",\"shape\":[2]},\"index\":[\"values\",\"values\"],\"top\":{\"__ndarray__\":\"AAAAAACAVkAAAAAAAABZQA==\",\"dtype\":\"float64\",\"order\":\"little\",\"shape\":[2]},\"value\":{\"__ndarray__\":\"AAAAAACAVkAAAAAAAAAkQA==\",\"dtype\":\"float64\",\"order\":\"little\",\"shape\":[2]}},\"selected\":{\"id\":\"1084\"},\"selection_policy\":{\"id\":\"1097\"}},\"id\":\"1083\",\"type\":\"ColumnDataSource\"},{\"attributes\":{\"align\":null,\"below\":[{\"id\":\"1062\"}],\"center\":[{\"id\":\"1065\"},{\"id\":\"1068\"},{\"id\":\"1099\"}],\"left\":[{\"id\":\"1066\"}],\"margin\":null,\"min_border_bottom\":10,\"min_border_left\":10,\"min_border_right\":10,\"min_border_top\":10,\"plot_height\":100,\"plot_width\":700,\"renderers\":[{\"id\":\"1089\"}],\"right\":[{\"id\":\"1099\"}],\"sizing_mode\":\"fixed\",\"title\":{\"id\":\"1054\"},\"toolbar\":{\"id\":\"1075\"},\"toolbar_location\":null,\"x_range\":{\"id\":\"1050\"},\"x_scale\":{\"id\":\"1058\"},\"y_range\":{\"id\":\"1051\"},\"y_scale\":{\"id\":\"1060\"}},\"id\":\"1053\",\"subtype\":\"Figure\",\"type\":\"Plot\"},{\"attributes\":{\"axis_label\":\"\",\"bounds\":\"auto\",\"formatter\":{\"id\":\"1208\"},\"major_label_orientation\":\"horizontal\",\"ticker\":{\"id\":\"1181\"}},\"id\":\"1180\",\"type\":\"CategoricalAxis\"},{\"attributes\":{\"data\":{\"Variable\":[\"Available\",\"Missing\"],\"bottom\":{\"__ndarray__\":\"AAAAAAAAAABNWVPWlPlYQA==\",\"dtype\":\"float64\",\"order\":\"little\",\"shape\":[2]},\"index\":[\"values\",\"values\"],\"top\":{\"__ndarray__\":\"TVlT1pT5WEAAAAAAAABZQA==\",\"dtype\":\"float64\",\"order\":\"little\",\"shape\":[2]},\"value\":{\"__ndarray__\":\"TVlT1pT5WEBrypqypqy5Pw==\",\"dtype\":\"float64\",\"order\":\"little\",\"shape\":[2]}},\"selected\":{\"id\":\"1141\"},\"selection_policy\":{\"id\":\"1154\"}},\"id\":\"1140\",\"type\":\"ColumnDataSource\"},{\"attributes\":{\"text\":\"Duplicate Values\",\"text_color\":{\"value\":\"black\"},\"text_font_size\":{\"value\":\"12pt\"}},\"id\":\"1168\",\"type\":\"Title\"},{\"attributes\":{\"label\":{\"field\":\"Variable\"},\"renderers\":[{\"id\":\"1260\"}]},\"id\":\"1271\",\"type\":\"LegendItem\"},{\"attributes\":{},\"id\":\"1184\",\"type\":\"PanTool\"},{\"attributes\":{\"axis\":{\"id\":\"1066\"},\"dimension\":1,\"grid_line_color\":null,\"ticker\":null},\"id\":\"1068\",\"type\":\"Grid\"},{\"attributes\":{\"factors\":[\"Available\",\"Missing\"],\"palette\":[\"#1f77b3\",\"#ff7e0e\"]},\"id\":\"1139\",\"type\":\"CategoricalColorMapper\"},{\"attributes\":{\"align\":null,\"below\":[{\"id\":\"1176\"}],\"center\":[{\"id\":\"1179\"},{\"id\":\"1182\"},{\"id\":\"1213\"}],\"left\":[{\"id\":\"1180\"}],\"margin\":null,\"min_border_bottom\":10,\"min_border_left\":10,\"min_border_right\":10,\"min_border_top\":10,\"plot_height\":100,\"plot_width\":700,\"renderers\":[{\"id\":\"1203\"}],\"right\":[{\"id\":\"1213\"}],\"sizing_mode\":\"fixed\",\"title\":{\"id\":\"1168\"},\"toolbar\":{\"id\":\"1189\"},\"toolbar_location\":null,\"x_range\":{\"id\":\"1050\"},\"x_scale\":{\"id\":\"1172\"},\"y_range\":{\"id\":\"1051\"},\"y_scale\":{\"id\":\"1174\"}},\"id\":\"1167\",\"subtype\":\"Figure\",\"type\":\"Plot\"},{\"attributes\":{\"fill_color\":{\"field\":\"Variable\",\"transform\":{\"id\":\"1139\"}},\"height\":{\"value\":0.8},\"left\":{\"field\":\"bottom\"},\"right\":{\"field\":\"top\"},\"y\":{\"field\":\"index\"}},\"id\":\"1143\",\"type\":\"HBar\"},{\"attributes\":{\"active_drag\":\"auto\",\"active_inspect\":\"auto\",\"active_multi\":null,\"active_scroll\":\"auto\",\"active_tap\":\"auto\",\"tools\":[{\"id\":\"1052\"},{\"id\":\"1069\"},{\"id\":\"1070\"},{\"id\":\"1071\"},{\"id\":\"1072\"},{\"id\":\"1073\"}]},\"id\":\"1075\",\"type\":\"Toolbar\"},{\"attributes\":{\"overlay\":{\"id\":\"1131\"}},\"id\":\"1129\",\"type\":\"BoxZoomTool\"},{\"attributes\":{},\"id\":\"1185\",\"type\":\"WheelZoomTool\"},{\"attributes\":{},\"id\":\"1058\",\"type\":\"LinearScale\"},{\"attributes\":{\"source\":{\"id\":\"1254\"}},\"id\":\"1261\",\"type\":\"CDSView\"},{\"attributes\":{},\"id\":\"1115\",\"type\":\"LinearScale\"},{\"attributes\":{\"data_source\":{\"id\":\"1254\"},\"glyph\":{\"id\":\"1257\"},\"hover_glyph\":null,\"muted_glyph\":{\"id\":\"1259\"},\"nonselection_glyph\":{\"id\":\"1258\"},\"selection_glyph\":null,\"view\":{\"id\":\"1261\"}},\"id\":\"1260\",\"type\":\"GlyphRenderer\"},{\"attributes\":{\"active_drag\":\"auto\",\"active_inspect\":\"auto\",\"active_multi\":null,\"active_scroll\":\"auto\",\"active_tap\":\"auto\",\"tools\":[{\"id\":\"1223\"},{\"id\":\"1240\"},{\"id\":\"1241\"},{\"id\":\"1242\"},{\"id\":\"1243\"},{\"id\":\"1244\"}]},\"id\":\"1246\",\"type\":\"Toolbar\"},{\"attributes\":{\"overlay\":{\"id\":\"1188\"}},\"id\":\"1186\",\"type\":\"BoxZoomTool\"},{\"attributes\":{\"axis_label\":\"\",\"bounds\":\"auto\",\"formatter\":{\"id\":\"1206\"},\"major_label_orientation\":\"horizontal\",\"ticker\":{\"id\":\"1215\"}},\"id\":\"1176\",\"type\":\"LinearAxis\"},{\"attributes\":{\"fill_alpha\":{\"value\":0.2},\"fill_color\":{\"field\":\"Variable\",\"transform\":{\"id\":\"1139\"}},\"height\":{\"value\":0.8},\"left\":{\"field\":\"bottom\"},\"line_alpha\":{\"value\":0.2},\"right\":{\"field\":\"top\"},\"y\":{\"field\":\"index\"}},\"id\":\"1145\",\"type\":\"HBar\"},{\"attributes\":{},\"id\":\"1240\",\"type\":\"SaveTool\"},{\"attributes\":{},\"id\":\"1060\",\"type\":\"CategoricalScale\"},{\"attributes\":{\"text\":\"Duplicate Columns\",\"text_color\":{\"value\":\"black\"},\"text_font_size\":{\"value\":\"12pt\"}},\"id\":\"1225\",\"type\":\"Title\"},{\"attributes\":{\"axis\":{\"id\":\"1233\"},\"grid_line_color\":null,\"ticker\":null},\"id\":\"1236\",\"type\":\"Grid\"},{\"attributes\":{},\"id\":\"1117\",\"type\":\"CategoricalScale\"},{\"attributes\":{},\"id\":\"1229\",\"type\":\"LinearScale\"},{\"attributes\":{},\"id\":\"1238\",\"type\":\"CategoricalTicker\"},{\"attributes\":{},\"id\":\"1187\",\"type\":\"ResetTool\"},{\"attributes\":{\"callback\":null,\"renderers\":[{\"id\":\"1260\"}],\"tags\":[\"hv_created\"],\"tooltips\":[[\"index\",\"@{index}\"],[\"Variable\",\"@{Variable}\"],[\"value\",\"@{value}\"]]},\"id\":\"1223\",\"type\":\"HoverTool\"},{\"attributes\":{},\"id\":\"1130\",\"type\":\"ResetTool\"},{\"attributes\":{\"overlay\":{\"id\":\"1245\"}},\"id\":\"1243\",\"type\":\"BoxZoomTool\"},{\"attributes\":{\"ticks\":[0]},\"id\":\"1215\",\"type\":\"FixedTicker\"},{\"attributes\":{\"fill_alpha\":{\"value\":0.1},\"fill_color\":{\"field\":\"Variable\",\"transform\":{\"id\":\"1196\"}},\"height\":{\"value\":0.8},\"left\":{\"field\":\"bottom\"},\"line_alpha\":{\"value\":0.1},\"right\":{\"field\":\"top\"},\"y\":{\"field\":\"index\"}},\"id\":\"1201\",\"type\":\"HBar\"},{\"attributes\":{},\"id\":\"1070\",\"type\":\"PanTool\"},{\"attributes\":{\"text\":\"Datatypes\",\"text_color\":{\"value\":\"black\"},\"text_font_size\":{\"value\":\"12pt\"}},\"id\":\"1054\",\"type\":\"Title\"},{\"attributes\":{\"items\":[{\"id\":\"1271\"}],\"location\":[0,0]},\"id\":\"1270\",\"type\":\"Legend\"},{\"attributes\":{\"client_comm_id\":\"18f29e255db941a3b0a03fdd2731beea\",\"comm_id\":\"4f8bbc465dfa4e039d8a0ca5482e2abf\",\"plot_id\":\"1049\"},\"id\":\"1654\",\"type\":\"panel.models.comm_manager.CommManager\"},{\"attributes\":{\"align\":null,\"below\":[{\"id\":\"1233\"}],\"center\":[{\"id\":\"1236\"},{\"id\":\"1239\"},{\"id\":\"1270\"}],\"left\":[{\"id\":\"1237\"}],\"margin\":null,\"min_border_bottom\":10,\"min_border_left\":10,\"min_border_right\":10,\"min_border_top\":10,\"plot_height\":100,\"plot_width\":700,\"renderers\":[{\"id\":\"1260\"}],\"right\":[{\"id\":\"1270\"}],\"sizing_mode\":\"fixed\",\"title\":{\"id\":\"1225\"},\"toolbar\":{\"id\":\"1246\"},\"toolbar_location\":null,\"x_range\":{\"id\":\"1050\"},\"x_scale\":{\"id\":\"1229\"},\"y_range\":{\"id\":\"1051\"},\"y_scale\":{\"id\":\"1231\"}},\"id\":\"1224\",\"subtype\":\"Figure\",\"type\":\"Plot\"},{\"attributes\":{\"axis\":{\"id\":\"1237\"},\"dimension\":1,\"grid_line_color\":null,\"ticker\":null},\"id\":\"1239\",\"type\":\"Grid\"},{\"attributes\":{},\"id\":\"1069\",\"type\":\"SaveTool\"},{\"attributes\":{},\"id\":\"1241\",\"type\":\"PanTool\"},{\"attributes\":{},\"id\":\"1126\",\"type\":\"SaveTool\"},{\"attributes\":{\"callback\":null,\"renderers\":[{\"id\":\"1203\"}],\"tags\":[\"hv_created\"],\"tooltips\":[[\"index\",\"@{index}\"],[\"Variable\",\"@{Variable}\"],[\"value\",\"@{value}\"]]},\"id\":\"1166\",\"type\":\"HoverTool\"},{\"attributes\":{},\"id\":\"1073\",\"type\":\"ResetTool\"},{\"attributes\":{},\"id\":\"1242\",\"type\":\"WheelZoomTool\"},{\"attributes\":{\"factors\":[\"Numeric\",\"Others\"],\"palette\":[\"#1f77b3\",\"#ff7e0e\"]},\"id\":\"1082\",\"type\":\"CategoricalColorMapper\"},{\"attributes\":{},\"id\":\"1067\",\"type\":\"CategoricalTicker\"},{\"attributes\":{\"items\":[{\"id\":\"1157\"}],\"location\":[0,0]},\"id\":\"1156\",\"type\":\"Legend\"},{\"attributes\":{},\"id\":\"1174\",\"type\":\"CategoricalScale\"},{\"attributes\":{\"fill_color\":{\"field\":\"Variable\",\"transform\":{\"id\":\"1082\"}},\"height\":{\"value\":0.8},\"left\":{\"field\":\"bottom\"},\"right\":{\"field\":\"top\"},\"y\":{\"field\":\"index\"}},\"id\":\"1086\",\"type\":\"HBar\"},{\"attributes\":{},\"id\":\"1244\",\"type\":\"ResetTool\"},{\"attributes\":{\"bottom_units\":\"screen\",\"fill_alpha\":0.5,\"fill_color\":\"lightgrey\",\"left_units\":\"screen\",\"level\":\"overlay\",\"line_alpha\":1.0,\"line_color\":\"black\",\"line_dash\":[4,4],\"line_width\":2,\"right_units\":\"screen\",\"top_units\":\"screen\"},\"id\":\"1188\",\"type\":\"BoxAnnotation\"},{\"attributes\":{\"callback\":null,\"renderers\":[{\"id\":\"1089\"}],\"tags\":[\"hv_created\"],\"tooltips\":[[\"index\",\"@{index}\"],[\"Variable\",\"@{Variable}\"],[\"value\",\"@{value}\"]]},\"id\":\"1052\",\"type\":\"HoverTool\"},{\"attributes\":{\"align\":null,\"below\":[{\"id\":\"1119\"}],\"center\":[{\"id\":\"1122\"},{\"id\":\"1125\"},{\"id\":\"1156\"}],\"left\":[{\"id\":\"1123\"}],\"margin\":null,\"min_border_bottom\":10,\"min_border_left\":10,\"min_border_right\":10,\"min_border_top\":10,\"plot_height\":100,\"plot_width\":700,\"renderers\":[{\"id\":\"1146\"}],\"right\":[{\"id\":\"1156\"}],\"sizing_mode\":\"fixed\",\"title\":{\"id\":\"1111\"},\"toolbar\":{\"id\":\"1132\"},\"toolbar_location\":null,\"x_range\":{\"id\":\"1050\"},\"x_scale\":{\"id\":\"1115\"},\"y_range\":{\"id\":\"1051\"},\"y_scale\":{\"id\":\"1117\"}},\"id\":\"1110\",\"subtype\":\"Figure\",\"type\":\"Plot\"},{\"attributes\":{\"active_drag\":\"auto\",\"active_inspect\":\"auto\",\"active_multi\":null,\"active_scroll\":\"auto\",\"active_tap\":\"auto\",\"tools\":[{\"id\":\"1109\"},{\"id\":\"1126\"},{\"id\":\"1127\"},{\"id\":\"1128\"},{\"id\":\"1129\"},{\"id\":\"1130\"}]},\"id\":\"1132\",\"type\":\"Toolbar\"},{\"attributes\":{},\"id\":\"1255\",\"type\":\"Selection\"},{\"attributes\":{},\"id\":\"1071\",\"type\":\"WheelZoomTool\"},{\"attributes\":{\"axis\":{\"id\":\"1123\"},\"dimension\":1,\"grid_line_color\":null,\"ticker\":null},\"id\":\"1125\",\"type\":\"Grid\"},{\"attributes\":{\"fill_alpha\":{\"value\":0.2},\"fill_color\":{\"field\":\"Variable\",\"transform\":{\"id\":\"1253\"}},\"height\":{\"value\":0.8},\"left\":{\"field\":\"bottom\"},\"line_alpha\":{\"value\":0.2},\"right\":{\"field\":\"top\"},\"y\":{\"field\":\"index\"}},\"id\":\"1259\",\"type\":\"HBar\"},{\"attributes\":{},\"id\":\"1124\",\"type\":\"CategoricalTicker\"},{\"attributes\":{\"bottom_units\":\"screen\",\"fill_alpha\":0.5,\"fill_color\":\"lightgrey\",\"left_units\":\"screen\",\"level\":\"overlay\",\"line_alpha\":1.0,\"line_color\":\"black\",\"line_dash\":[4,4],\"line_width\":2,\"right_units\":\"screen\",\"top_units\":\"screen\"},\"id\":\"1074\",\"type\":\"BoxAnnotation\"},{\"attributes\":{\"fill_alpha\":{\"value\":0.1},\"fill_color\":{\"field\":\"Variable\",\"transform\":{\"id\":\"1139\"}},\"height\":{\"value\":0.8},\"left\":{\"field\":\"bottom\"},\"line_alpha\":{\"value\":0.1},\"right\":{\"field\":\"top\"},\"y\":{\"field\":\"index\"}},\"id\":\"1144\",\"type\":\"HBar\"},{\"attributes\":{\"text\":\"Missing Values\",\"text_color\":{\"value\":\"black\"},\"text_font_size\":{\"value\":\"12pt\"}},\"id\":\"1111\",\"type\":\"Title\"},{\"attributes\":{\"fill_alpha\":{\"value\":0.2},\"fill_color\":{\"field\":\"Variable\",\"transform\":{\"id\":\"1082\"}},\"height\":{\"value\":0.8},\"left\":{\"field\":\"bottom\"},\"line_alpha\":{\"value\":0.2},\"right\":{\"field\":\"top\"},\"y\":{\"field\":\"index\"}},\"id\":\"1088\",\"type\":\"HBar\"},{\"attributes\":{\"data_source\":{\"id\":\"1140\"},\"glyph\":{\"id\":\"1143\"},\"hover_glyph\":null,\"muted_glyph\":{\"id\":\"1145\"},\"nonselection_glyph\":{\"id\":\"1144\"},\"selection_glyph\":null,\"view\":{\"id\":\"1147\"}},\"id\":\"1146\",\"type\":\"GlyphRenderer\"},{\"attributes\":{\"source\":{\"id\":\"1140\"}},\"id\":\"1147\",\"type\":\"CDSView\"},{\"attributes\":{\"axis_label\":\"\",\"bounds\":\"auto\",\"formatter\":{\"id\":\"1149\"},\"major_label_orientation\":\"horizontal\",\"ticker\":{\"id\":\"1158\"}},\"id\":\"1119\",\"type\":\"LinearAxis\"},{\"attributes\":{},\"id\":\"1094\",\"type\":\"CategoricalTickFormatter\"},{\"attributes\":{\"label\":{\"field\":\"Variable\"},\"renderers\":[{\"id\":\"1146\"}]},\"id\":\"1157\",\"type\":\"LegendItem\"},{\"attributes\":{\"axis_label\":\"\",\"bounds\":\"auto\",\"formatter\":{\"id\":\"1151\"},\"major_label_orientation\":\"horizontal\",\"ticker\":{\"id\":\"1124\"}},\"id\":\"1123\",\"type\":\"CategoricalAxis\"},{\"attributes\":{\"fill_alpha\":{\"value\":0.1},\"fill_color\":{\"field\":\"Variable\",\"transform\":{\"id\":\"1253\"}},\"height\":{\"value\":0.8},\"left\":{\"field\":\"bottom\"},\"line_alpha\":{\"value\":0.1},\"right\":{\"field\":\"top\"},\"y\":{\"field\":\"index\"}},\"id\":\"1258\",\"type\":\"HBar\"},{\"attributes\":{\"bottom_units\":\"screen\",\"fill_alpha\":0.5,\"fill_color\":\"lightgrey\",\"left_units\":\"screen\",\"level\":\"overlay\",\"line_alpha\":1.0,\"line_color\":\"black\",\"line_dash\":[4,4],\"line_width\":2,\"right_units\":\"screen\",\"top_units\":\"screen\"},\"id\":\"1131\",\"type\":\"BoxAnnotation\"},{\"attributes\":{},\"id\":\"1149\",\"type\":\"BasicTickFormatter\"},{\"attributes\":{},\"id\":\"1172\",\"type\":\"LinearScale\"},{\"attributes\":{},\"id\":\"1198\",\"type\":\"Selection\"},{\"attributes\":{\"margin\":[0,0,0,0],\"tabs\":[{\"id\":\"1569\"}]},\"id\":\"1049\",\"type\":\"Tabs\"},{\"attributes\":{\"toolbar\":{\"id\":\"1312\"},\"toolbar_location\":\"above\"},\"id\":\"1313\",\"type\":\"ToolbarBox\"},{\"attributes\":{\"active_drag\":\"auto\",\"active_inspect\":\"auto\",\"active_multi\":null,\"active_scroll\":\"auto\",\"active_tap\":\"auto\",\"tools\":[{\"id\":\"1166\"},{\"id\":\"1183\"},{\"id\":\"1184\"},{\"id\":\"1185\"},{\"id\":\"1186\"},{\"id\":\"1187\"}]},\"id\":\"1189\",\"type\":\"Toolbar\"},{\"attributes\":{\"data_source\":{\"id\":\"1083\"},\"glyph\":{\"id\":\"1086\"},\"hover_glyph\":null,\"muted_glyph\":{\"id\":\"1088\"},\"nonselection_glyph\":{\"id\":\"1087\"},\"selection_glyph\":null,\"view\":{\"id\":\"1090\"}},\"id\":\"1089\",\"type\":\"GlyphRenderer\"},{\"attributes\":{\"axis_label\":\"\",\"bounds\":\"auto\",\"formatter\":{\"id\":\"1094\"},\"major_label_orientation\":\"horizontal\",\"ticker\":{\"id\":\"1067\"}},\"id\":\"1066\",\"type\":\"CategoricalAxis\"},{\"attributes\":{},\"id\":\"1127\",\"type\":\"PanTool\"},{\"attributes\":{\"fill_alpha\":{\"value\":0.1},\"fill_color\":{\"field\":\"Variable\",\"transform\":{\"id\":\"1082\"}},\"height\":{\"value\":0.8},\"left\":{\"field\":\"bottom\"},\"line_alpha\":{\"value\":0.1},\"right\":{\"field\":\"top\"},\"y\":{\"field\":\"index\"}},\"id\":\"1087\",\"type\":\"HBar\"},{\"attributes\":{\"data\":{\"Variable\":[\"Unique\",\"Duplicate\"],\"bottom\":{\"__ndarray__\":\"AAAAAAAAAAAAAAAAAABZQA==\",\"dtype\":\"float64\",\"order\":\"little\",\"shape\":[2]},\"index\":[\"values\",\"values\"],\"top\":{\"__ndarray__\":\"AAAAAAAAWUAAAAAAAABZQA==\",\"dtype\":\"float64\",\"order\":\"little\",\"shape\":[2]},\"value\":{\"__ndarray__\":\"AAAAAAAAWUAAAAAAAAAAAA==\",\"dtype\":\"float64\",\"order\":\"little\",\"shape\":[2]}},\"selected\":{\"id\":\"1255\"},\"selection_policy\":{\"id\":\"1268\"}},\"id\":\"1254\",\"type\":\"ColumnDataSource\"},{\"attributes\":{},\"id\":\"1128\",\"type\":\"WheelZoomTool\"},{\"attributes\":{},\"id\":\"1092\",\"type\":\"BasicTickFormatter\"},{\"attributes\":{},\"id\":\"1097\",\"type\":\"UnionRenderers\"},{\"attributes\":{},\"id\":\"1183\",\"type\":\"SaveTool\"},{\"attributes\":{\"end\":100.0,\"reset_end\":100.0,\"reset_start\":0.0,\"tags\":[[[\"value\",\"value\",null]]]},\"id\":\"1050\",\"type\":\"Range1d\"},{\"attributes\":{},\"id\":\"1151\",\"type\":\"CategoricalTickFormatter\"},{\"attributes\":{\"axis\":{\"id\":\"1119\"},\"grid_line_color\":null,\"ticker\":null},\"id\":\"1122\",\"type\":\"Grid\"},{\"attributes\":{\"overlay\":{\"id\":\"1074\"}},\"id\":\"1072\",\"type\":\"BoxZoomTool\"},{\"attributes\":{},\"id\":\"1208\",\"type\":\"CategoricalTickFormatter\"},{\"attributes\":{},\"id\":\"1181\",\"type\":\"CategoricalTicker\"},{\"attributes\":{\"axis_label\":\"\",\"bounds\":\"auto\",\"formatter\":{\"id\":\"1092\"},\"major_label_orientation\":\"horizontal\",\"ticker\":{\"id\":\"1101\"}},\"id\":\"1062\",\"type\":\"LinearAxis\"},{\"attributes\":{\"bottom_units\":\"screen\",\"fill_alpha\":0.5,\"fill_color\":\"lightgrey\",\"left_units\":\"screen\",\"level\":\"overlay\",\"line_alpha\":1.0,\"line_color\":\"black\",\"line_dash\":[4,4],\"line_width\":2,\"right_units\":\"screen\",\"top_units\":\"screen\"},\"id\":\"1245\",\"type\":\"BoxAnnotation\"},{\"attributes\":{\"source\":{\"id\":\"1083\"}},\"id\":\"1090\",\"type\":\"CDSView\"},{\"attributes\":{\"callback\":null,\"renderers\":[{\"id\":\"1146\"}],\"tags\":[\"hv_created\"],\"tooltips\":[[\"index\",\"@{index}\"],[\"Variable\",\"@{Variable}\"],[\"value\",\"@{value}\"]]},\"id\":\"1109\",\"type\":\"HoverTool\"},{\"attributes\":{\"factors\":[\"Unique\",\"Duplicate\"],\"palette\":[\"#1f77b3\",\"#ff7e0e\"]},\"id\":\"1253\",\"type\":\"CategoricalColorMapper\"},{\"attributes\":{\"label\":{\"field\":\"Variable\"},\"renderers\":[{\"id\":\"1089\"}]},\"id\":\"1100\",\"type\":\"LegendItem\"},{\"attributes\":{\"items\":[{\"id\":\"1100\"}],\"location\":[0,0]},\"id\":\"1099\",\"type\":\"Legend\"},{\"attributes\":{},\"id\":\"1206\",\"type\":\"BasicTickFormatter\"}],\"root_ids\":[\"1049\",\"1654\"]},\"title\":\"Bokeh Application\",\"version\":\"2.2.3\"}};\n",
       "  var render_items = [{\"docid\":\"633d603c-2dd6-4169-9261-2cd9af86e0b2\",\"root_ids\":[\"1049\"],\"roots\":{\"1049\":\"bb733c79-fd8c-4cf0-a0b4-57402faee47a\"}}];\n",
       "  root.Bokeh.embed.embed_items_notebook(docs_json, render_items);\n",
       "  }\n",
       "if (root.Bokeh !== undefined) {\n",
       "    embed_document(root);\n",
       "  } else {\n",
       "    var attempts = 0;\n",
       "    var timer = setInterval(function(root) {\n",
       "      if (root.Bokeh !== undefined) {\n",
       "        clearInterval(timer);\n",
       "        embed_document(root);\n",
       "      } else if (document.readyState == \"complete\") {\n",
       "        attempts++;\n",
       "        if (attempts > 100) {\n",
       "          clearInterval(timer);\n",
       "          console.log(\"Bokeh: ERROR: Unable to run BokehJS code because BokehJS library is missing\");\n",
       "        }\n",
       "      }\n",
       "    }, 10, root)\n",
       "  }\n",
       "})(window);</script>"
      ],
      "text/plain": [
       "Tabs\n",
       "    [0] HoloViews(Layout, name='house')"
      ]
     },
     "execution_count": 50,
     "metadata": {
      "application/vnd.holoviews_exec.v0+json": {
       "id": "1049"
      }
     },
     "output_type": "execute_result"
    }
   ],
   "source": [
    "summary, plot1 = eda.get_data_health_summary(housingDf, return_plot = True)\n",
    "display_as_tabs([(\"house\", plot1)])"
   ]
  },
  {
   "cell_type": "code",
   "execution_count": 51,
   "metadata": {},
   "outputs": [
    {
     "data": {},
     "metadata": {},
     "output_type": "display_data"
    },
    {
     "data": {},
     "metadata": {},
     "output_type": "display_data"
    },
    {
     "data": {
      "application/vnd.holoviews_exec.v0+json": "",
      "text/html": [
       "<div id='1795'>\n",
       "\n",
       "\n",
       "\n",
       "\n",
       "\n",
       "  <div class=\"bk-root\" id=\"6f2d9224-0c29-472b-ba85-731bb5630013\" data-root-id=\"1795\"></div>\n",
       "</div>\n",
       "<script type=\"application/javascript\">(function(root) {\n",
       "  function embed_document(root) {\n",
       "  var docs_json = {\"9cccfbae-9fd6-4af2-a43d-832914aa3175\":{\"roots\":{\"references\":[{\"attributes\":{\"bottom_units\":\"screen\",\"fill_alpha\":0.5,\"fill_color\":\"lightgrey\",\"left_units\":\"screen\",\"level\":\"overlay\",\"line_alpha\":1.0,\"line_color\":\"black\",\"line_dash\":[4,4],\"line_width\":2,\"right_units\":\"screen\",\"top_units\":\"screen\"},\"id\":\"1820\",\"type\":\"BoxAnnotation\"},{\"attributes\":{},\"id\":\"1804\",\"type\":\"CategoricalScale\"},{\"attributes\":{\"text\":\"Missing Variables - Data Shape:(20640, 10)\",\"text_color\":{\"value\":\"black\"},\"text_font_size\":{\"value\":\"12pt\"}},\"id\":\"1800\",\"type\":\"Title\"},{\"attributes\":{\"callback\":null,\"renderers\":[{\"id\":\"1834\"}],\"tags\":[\"hv_created\"],\"tooltips\":[[\"index\",\"@{index}\"],[\"0\",\"@{A_0}\"]]},\"id\":\"1798\",\"type\":\"HoverTool\"},{\"attributes\":{},\"id\":\"1838\",\"type\":\"BasicTickFormatter\"},{\"attributes\":{\"axis\":{\"id\":\"1808\"},\"grid_line_color\":null,\"ticker\":null},\"id\":\"1810\",\"type\":\"Grid\"},{\"attributes\":{\"overlay\":{\"id\":\"1820\"}},\"id\":\"1818\",\"type\":\"BoxZoomTool\"},{\"attributes\":{\"active_drag\":\"auto\",\"active_inspect\":\"auto\",\"active_multi\":null,\"active_scroll\":\"auto\",\"active_tap\":\"auto\",\"tools\":[{\"id\":\"1798\"},{\"id\":\"1815\"},{\"id\":\"1816\"},{\"id\":\"1817\"},{\"id\":\"1818\"},{\"id\":\"1819\"}]},\"id\":\"1821\",\"type\":\"Toolbar\"},{\"attributes\":{\"fill_alpha\":{\"value\":0.1},\"fill_color\":{\"value\":\"#1f77b3\"},\"line_alpha\":{\"value\":0.1},\"top\":{\"field\":\"A_0\"},\"width\":{\"value\":0.8},\"x\":{\"field\":\"index\"}},\"id\":\"1832\",\"type\":\"VBar\"},{\"attributes\":{},\"id\":\"1829\",\"type\":\"Selection\"},{\"attributes\":{},\"id\":\"1815\",\"type\":\"SaveTool\"},{\"attributes\":{\"align\":null,\"below\":[{\"id\":\"1808\"}],\"center\":[{\"id\":\"1810\"},{\"id\":\"1814\"}],\"left\":[{\"id\":\"1811\"}],\"margin\":null,\"min_border_bottom\":10,\"min_border_left\":10,\"min_border_right\":10,\"min_border_top\":10,\"plot_height\":300,\"plot_width\":700,\"renderers\":[{\"id\":\"1834\"}],\"sizing_mode\":\"fixed\",\"title\":{\"id\":\"1800\"},\"toolbar\":{\"id\":\"1821\"},\"x_range\":{\"id\":\"1796\"},\"x_scale\":{\"id\":\"1804\"},\"y_range\":{\"id\":\"1797\"},\"y_scale\":{\"id\":\"1806\"}},\"id\":\"1799\",\"subtype\":\"Figure\",\"type\":\"Plot\"},{\"attributes\":{\"end\":9.9,\"reset_end\":9.9,\"reset_start\":0.0,\"tags\":[[[\"0\",\"0\",null]]]},\"id\":\"1797\",\"type\":\"Range1d\"},{\"attributes\":{\"fill_alpha\":{\"value\":0.2},\"fill_color\":{\"value\":\"#1f77b3\"},\"line_alpha\":{\"value\":0.2},\"top\":{\"field\":\"A_0\"},\"width\":{\"value\":0.8},\"x\":{\"field\":\"index\"}},\"id\":\"1833\",\"type\":\"VBar\"},{\"attributes\":{\"factors\":[\"No Missing\",\"0-5%\",\"5-10%\",\"10-20%\",\"20-30%\",\"30-40%\",\"40-50%\",\"50-100%\"],\"tags\":[[[\"index\",\"index\",null]]]},\"id\":\"1796\",\"type\":\"FactorRange\"},{\"attributes\":{},\"id\":\"1836\",\"type\":\"CategoricalTickFormatter\"},{\"attributes\":{},\"id\":\"1819\",\"type\":\"ResetTool\"},{\"attributes\":{\"axis_label\":\"# of variables\",\"bounds\":\"auto\",\"formatter\":{\"id\":\"1838\"},\"major_label_orientation\":\"horizontal\",\"ticker\":{\"id\":\"1812\"}},\"id\":\"1811\",\"type\":\"LinearAxis\"},{\"attributes\":{\"client_comm_id\":\"cc4a140c732f4f24b6a15662de8ba1d8\",\"comm_id\":\"3aeee84fce224cebad2b84f3ed37589b\",\"plot_id\":\"1795\"},\"id\":\"1881\",\"type\":\"panel.models.comm_manager.CommManager\"},{\"attributes\":{},\"id\":\"1846\",\"type\":\"UnionRenderers\"},{\"attributes\":{\"axis\":{\"id\":\"1811\"},\"dimension\":1,\"grid_line_color\":null,\"ticker\":null},\"id\":\"1814\",\"type\":\"Grid\"},{\"attributes\":{\"source\":{\"id\":\"1828\"}},\"id\":\"1835\",\"type\":\"CDSView\"},{\"attributes\":{\"fill_color\":{\"value\":\"#1f77b3\"},\"top\":{\"field\":\"A_0\"},\"width\":{\"value\":0.8},\"x\":{\"field\":\"index\"}},\"id\":\"1831\",\"type\":\"VBar\"},{\"attributes\":{\"data_source\":{\"id\":\"1828\"},\"glyph\":{\"id\":\"1831\"},\"hover_glyph\":null,\"muted_glyph\":{\"id\":\"1833\"},\"nonselection_glyph\":{\"id\":\"1832\"},\"selection_glyph\":null,\"view\":{\"id\":\"1835\"}},\"id\":\"1834\",\"type\":\"GlyphRenderer\"},{\"attributes\":{},\"id\":\"1816\",\"type\":\"PanTool\"},{\"attributes\":{\"axis_label\":\"# of missing observations\",\"bounds\":\"auto\",\"formatter\":{\"id\":\"1836\"},\"major_label_orientation\":\"horizontal\",\"ticker\":{\"id\":\"1809\"}},\"id\":\"1808\",\"type\":\"CategoricalAxis\"},{\"attributes\":{},\"id\":\"1817\",\"type\":\"WheelZoomTool\"},{\"attributes\":{},\"id\":\"1806\",\"type\":\"LinearScale\"},{\"attributes\":{},\"id\":\"1809\",\"type\":\"CategoricalTicker\"},{\"attributes\":{\"margin\":[0,0,0,0],\"tabs\":[{\"id\":\"1856\"}]},\"id\":\"1795\",\"type\":\"Tabs\"},{\"attributes\":{},\"id\":\"1812\",\"type\":\"BasicTicker\"},{\"attributes\":{\"data\":{\"A_0\":[9,1,0,0,0,0,0,0],\"index\":[\"No Missing\",\"0-5%\",\"5-10%\",\"10-20%\",\"20-30%\",\"30-40%\",\"40-50%\",\"50-100%\"]},\"selected\":{\"id\":\"1829\"},\"selection_policy\":{\"id\":\"1846\"}},\"id\":\"1828\",\"type\":\"ColumnDataSource\"},{\"attributes\":{\"child\":{\"id\":\"1799\"},\"name\":\"house\",\"title\":\"house\"},\"id\":\"1856\",\"type\":\"Panel\"}],\"root_ids\":[\"1795\",\"1881\"]},\"title\":\"Bokeh Application\",\"version\":\"2.2.3\"}};\n",
       "  var render_items = [{\"docid\":\"9cccfbae-9fd6-4af2-a43d-832914aa3175\",\"root_ids\":[\"1795\"],\"roots\":{\"1795\":\"6f2d9224-0c29-472b-ba85-731bb5630013\"}}];\n",
       "  root.Bokeh.embed.embed_items_notebook(docs_json, render_items);\n",
       "  }\n",
       "if (root.Bokeh !== undefined) {\n",
       "    embed_document(root);\n",
       "  } else {\n",
       "    var attempts = 0;\n",
       "    var timer = setInterval(function(root) {\n",
       "      if (root.Bokeh !== undefined) {\n",
       "        clearInterval(timer);\n",
       "        embed_document(root);\n",
       "      } else if (document.readyState == \"complete\") {\n",
       "        attempts++;\n",
       "        if (attempts > 100) {\n",
       "          clearInterval(timer);\n",
       "          console.log(\"Bokeh: ERROR: Unable to run BokehJS code because BokehJS library is missing\");\n",
       "        }\n",
       "      }\n",
       "    }, 10, root)\n",
       "  }\n",
       "})(window);</script>"
      ],
      "text/plain": [
       "Tabs\n",
       "    [0] HoloViews(Bars, name='house')"
      ]
     },
     "execution_count": 51,
     "metadata": {
      "application/vnd.holoviews_exec.v0+json": {
       "id": "1795"
      }
     },
     "output_type": "execute_result"
    }
   ],
   "source": [
    "summary, plot1 = eda.get_missing_values_summary(housingDf, return_plot = True)\n",
    "display_as_tabs([('house', plot1)])"
   ]
  },
  {
   "cell_type": "code",
   "execution_count": 52,
   "metadata": {},
   "outputs": [
    {
     "data": {},
     "metadata": {},
     "output_type": "display_data"
    },
    {
     "data": {
      "application/vnd.holoviews_exec.v0+json": "",
      "text/html": [
       "<div id='1922'>\n",
       "\n",
       "\n",
       "\n",
       "\n",
       "\n",
       "  <div class=\"bk-root\" id=\"98af69b3-e699-407f-9f68-55158b9e6c74\" data-root-id=\"1922\"></div>\n",
       "</div>\n",
       "<script type=\"application/javascript\">(function(root) {\n",
       "  function embed_document(root) {\n",
       "  var docs_json = {\"2fb960e3-60ed-4998-baa5-24b5c6539f5f\":{\"roots\":{\"references\":[{\"attributes\":{\"client_comm_id\":\"55ad6cee169949468e749d420a475d1a\",\"comm_id\":\"0d6133deed014e27b9017fc57287704b\",\"plot_id\":\"1922\"},\"id\":\"1925\",\"type\":\"panel.models.comm_manager.CommManager\"},{\"attributes\":{\"child\":{\"id\":\"1923\"},\"name\":\"house\",\"title\":\"house\"},\"id\":\"1924\",\"type\":\"Panel\"},{\"attributes\":{\"css_classes\":[\"markdown\"],\"margin\":[5,5,5,5],\"name\":\"house\",\"text\":\"&lt;p&gt;No duplicate variables&lt;/p&gt;\"},\"id\":\"1923\",\"type\":\"panel.models.markup.HTML\"},{\"attributes\":{\"margin\":[0,0,0,0],\"tabs\":[{\"id\":\"1924\"}]},\"id\":\"1922\",\"type\":\"Tabs\"}],\"root_ids\":[\"1922\",\"1925\"]},\"title\":\"Bokeh Application\",\"version\":\"2.2.3\"}};\n",
       "  var render_items = [{\"docid\":\"2fb960e3-60ed-4998-baa5-24b5c6539f5f\",\"root_ids\":[\"1922\"],\"roots\":{\"1922\":\"98af69b3-e699-407f-9f68-55158b9e6c74\"}}];\n",
       "  root.Bokeh.embed.embed_items_notebook(docs_json, render_items);\n",
       "  }\n",
       "if (root.Bokeh !== undefined) {\n",
       "    embed_document(root);\n",
       "  } else {\n",
       "    var attempts = 0;\n",
       "    var timer = setInterval(function(root) {\n",
       "      if (root.Bokeh !== undefined) {\n",
       "        clearInterval(timer);\n",
       "        embed_document(root);\n",
       "      } else if (document.readyState == \"complete\") {\n",
       "        attempts++;\n",
       "        if (attempts > 100) {\n",
       "          clearInterval(timer);\n",
       "          console.log(\"Bokeh: ERROR: Unable to run BokehJS code because BokehJS library is missing\");\n",
       "        }\n",
       "      }\n",
       "    }, 10, root)\n",
       "  }\n",
       "})(window);</script>"
      ],
      "text/plain": [
       "Tabs\n",
       "    [0] Markdown(str, name='house')"
      ]
     },
     "execution_count": 52,
     "metadata": {
      "application/vnd.holoviews_exec.v0+json": {
       "id": "1922"
      }
     },
     "output_type": "execute_result"
    }
   ],
   "source": [
    "summary = eda.get_duplicate_columns(housingDf)\n",
    "display_as_tabs([('house', summary)])"
   ]
  },
  {
   "cell_type": "code",
   "execution_count": 53,
   "metadata": {},
   "outputs": [
    {
     "data": {},
     "metadata": {},
     "output_type": "display_data"
    },
    {
     "data": {
      "application/vnd.holoviews_exec.v0+json": "",
      "text/html": [
       "<div id='1926'>\n",
       "\n",
       "\n",
       "\n",
       "\n",
       "\n",
       "  <div class=\"bk-root\" id=\"4e2ae64a-f54e-4d93-bc9b-a765e9a34684\" data-root-id=\"1926\"></div>\n",
       "</div>\n",
       "<script type=\"application/javascript\">(function(root) {\n",
       "  function embed_document(root) {\n",
       "  var docs_json = {\"a5084aa7-6b17-4f44-b13c-7890743cb3e5\":{\"roots\":{\"references\":[{\"attributes\":{},\"id\":\"1928\",\"type\":\"StringFormatter\"},{\"attributes\":{\"child\":{\"id\":\"1963\"},\"name\":\"house\",\"title\":\"house\"},\"id\":\"1966\",\"type\":\"Panel\"},{\"attributes\":{\"editor\":{\"id\":\"1934\"},\"field\":\"('Data Shape:(20640, 10)', '< (mean-3*std)')\",\"formatter\":{\"id\":\"1933\"},\"title\":\"('Data Shape:(20640, 10)', '< (mean-3*std)')\",\"width\":null},\"id\":\"1935\",\"type\":\"TableColumn\"},{\"attributes\":{},\"id\":\"1943\",\"type\":\"NumberFormatter\"},{\"attributes\":{\"editor\":{\"id\":\"1949\"},\"field\":\"('Data Shape:(20640, 10)', '> (3rdQ + 1.5 * IQR)')\",\"formatter\":{\"id\":\"1948\"},\"title\":\"('Data Shape:(20640, 10)', '> (3rdQ + 1.5 * IQR)')\",\"width\":null},\"id\":\"1950\",\"type\":\"TableColumn\"},{\"attributes\":{},\"id\":\"1944\",\"type\":\"IntEditor\"},{\"attributes\":{\"editor\":{\"id\":\"1944\"},\"field\":\"('Data Shape:(20640, 10)', '< (1stQ - 1.5 * IQR)')\",\"formatter\":{\"id\":\"1943\"},\"title\":\"('Data Shape:(20640, 10)', '< (1stQ - 1.5 * IQR)')\",\"width\":null},\"id\":\"1945\",\"type\":\"TableColumn\"},{\"attributes\":{\"client_comm_id\":\"395a1bd695bd4ef89b69a6366b0486cc\",\"comm_id\":\"609139f41ff94b1ba38ecc7b0f783698\",\"plot_id\":\"1926\"},\"id\":\"1973\",\"type\":\"panel.models.comm_manager.CommManager\"},{\"attributes\":{\"margin\":[0,0,0,0],\"tabs\":[{\"id\":\"1966\"}]},\"id\":\"1926\",\"type\":\"Tabs\"},{\"attributes\":{\"source\":{\"id\":\"1927\"}},\"id\":\"1964\",\"type\":\"CDSView\"},{\"attributes\":{},\"id\":\"1948\",\"type\":\"NumberFormatter\"},{\"attributes\":{},\"id\":\"1939\",\"type\":\"IntEditor\"},{\"attributes\":{\"editor\":{\"id\":\"1939\"},\"field\":\"('Data Shape:(20640, 10)', '> (mean+3*std)')\",\"formatter\":{\"id\":\"1938\"},\"title\":\"('Data Shape:(20640, 10)', '> (mean+3*std)')\",\"width\":null},\"id\":\"1940\",\"type\":\"TableColumn\"},{\"attributes\":{\"editor\":{\"id\":\"1954\"},\"field\":\"('Data Shape:(20640, 10)', '-inf')\",\"formatter\":{\"id\":\"1953\"},\"title\":\"('Data Shape:(20640, 10)', '-inf')\",\"width\":null},\"id\":\"1955\",\"type\":\"TableColumn\"},{\"attributes\":{\"editor\":{\"id\":\"1929\"},\"field\":\"index\",\"formatter\":{\"id\":\"1928\"},\"title\":\"index\",\"width\":null},\"id\":\"1930\",\"type\":\"TableColumn\"},{\"attributes\":{},\"id\":\"1954\",\"type\":\"IntEditor\"},{\"attributes\":{\"data\":{\"('Data Shape:(20640, 10)', '+inf')\":[0,0,0,0,0,0],\"('Data Shape:(20640, 10)', '-inf')\":[0,0,0,0,0,0],\"('Data Shape:(20640, 10)', '< (1stQ - 1.5 * IQR)')\":[0,0,0,0,0,0],\"('Data Shape:(20640, 10)', '< (mean-3*std)')\":[0,0,0,0,0,0],\"('Data Shape:(20640, 10)', '> (3rdQ + 1.5 * IQR)')\":[1287,1271,1196,1220,681,1071],\"('Data Shape:(20640, 10)', '> (mean+3*std)')\":[373,368,342,363,345,0],\"index\":[\"total_rooms\",\"total_bedrooms\",\"population\",\"households\",\"median_income\",\"median_house_value\"]},\"selected\":{\"id\":\"1965\"},\"selection_policy\":{\"id\":\"1967\"}},\"id\":\"1927\",\"type\":\"ColumnDataSource\"},{\"attributes\":{},\"id\":\"1958\",\"type\":\"NumberFormatter\"},{\"attributes\":{},\"id\":\"1953\",\"type\":\"NumberFormatter\"},{\"attributes\":{},\"id\":\"1967\",\"type\":\"UnionRenderers\"},{\"attributes\":{},\"id\":\"1949\",\"type\":\"IntEditor\"},{\"attributes\":{},\"id\":\"1959\",\"type\":\"IntEditor\"},{\"attributes\":{},\"id\":\"1934\",\"type\":\"IntEditor\"},{\"attributes\":{},\"id\":\"1965\",\"type\":\"Selection\"},{\"attributes\":{},\"id\":\"1938\",\"type\":\"NumberFormatter\"},{\"attributes\":{\"editor\":{\"id\":\"1959\"},\"field\":\"('Data Shape:(20640, 10)', '+inf')\",\"formatter\":{\"id\":\"1958\"},\"title\":\"('Data Shape:(20640, 10)', '+inf')\",\"width\":null},\"id\":\"1960\",\"type\":\"TableColumn\"},{\"attributes\":{},\"id\":\"1933\",\"type\":\"NumberFormatter\"},{\"attributes\":{\"columns\":[{\"id\":\"1930\"},{\"id\":\"1935\"},{\"id\":\"1940\"},{\"id\":\"1945\"},{\"id\":\"1950\"},{\"id\":\"1955\"},{\"id\":\"1960\"}],\"editable\":true,\"fit_columns\":true,\"height\":180,\"index_position\":null,\"margin\":[5,10,5,10],\"name\":\"house\",\"source\":{\"id\":\"1927\"},\"view\":{\"id\":\"1964\"}},\"id\":\"1963\",\"type\":\"DataTable\"},{\"attributes\":{},\"id\":\"1929\",\"type\":\"StringEditor\"}],\"root_ids\":[\"1926\",\"1973\"]},\"title\":\"Bokeh Application\",\"version\":\"2.2.3\"}};\n",
       "  var render_items = [{\"docid\":\"a5084aa7-6b17-4f44-b13c-7890743cb3e5\",\"root_ids\":[\"1926\"],\"roots\":{\"1926\":\"4e2ae64a-f54e-4d93-bc9b-a765e9a34684\"}}];\n",
       "  root.Bokeh.embed.embed_items_notebook(docs_json, render_items);\n",
       "  }\n",
       "if (root.Bokeh !== undefined) {\n",
       "    embed_document(root);\n",
       "  } else {\n",
       "    var attempts = 0;\n",
       "    var timer = setInterval(function(root) {\n",
       "      if (root.Bokeh !== undefined) {\n",
       "        clearInterval(timer);\n",
       "        embed_document(root);\n",
       "      } else if (document.readyState == \"complete\") {\n",
       "        attempts++;\n",
       "        if (attempts > 100) {\n",
       "          clearInterval(timer);\n",
       "          console.log(\"Bokeh: ERROR: Unable to run BokehJS code because BokehJS library is missing\");\n",
       "        }\n",
       "      }\n",
       "    }, 10, root)\n",
       "  }\n",
       "})(window);</script>"
      ],
      "text/plain": [
       "Tabs\n",
       "    [0] DataFrame(name='house', value=                    ('Data...)"
      ]
     },
     "execution_count": 53,
     "metadata": {
      "application/vnd.holoviews_exec.v0+json": {
       "id": "1926"
      }
     },
     "output_type": "execute_result"
    }
   ],
   "source": [
    "summary = eda.get_outliers(housingDf)\n",
    "display_as_tabs([('house', summary)])"
   ]
  },
  {
   "cell_type": "code",
   "execution_count": 55,
   "metadata": {},
   "outputs": [],
   "source": [
    "summary_report(housingDf, './housingDf.html')"
   ]
  },
  {
   "cell_type": "code",
   "execution_count": null,
   "metadata": {},
   "outputs": [],
   "source": []
  }
 ],
 "metadata": {
  "kernelspec": {
   "display_name": "Python 3",
   "language": "python",
   "name": "python3"
  },
  "language_info": {
   "codemirror_mode": {
    "name": "ipython",
    "version": 3
   },
   "file_extension": ".py",
   "mimetype": "text/x-python",
   "name": "python",
   "nbconvert_exporter": "python",
   "pygments_lexer": "ipython3",
   "version": "3.8.11"
  }
 },
 "nbformat": 4,
 "nbformat_minor": 4
}
